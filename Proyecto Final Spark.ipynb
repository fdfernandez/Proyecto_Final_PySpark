{
 "cells": [
  {
   "cell_type": "code",
   "execution_count": 2,
   "id": "0dba3210",
   "metadata": {},
   "outputs": [
    {
     "name": "stdout",
     "output_type": "stream",
     "text": [
      "Requirement already satisfied: findspark in c:\\users\\panchito fer\\anaconda3\\lib\\site-packages (2.0.1)\n"
     ]
    },
    {
     "data": {
      "text/html": [
       "\n",
       "        <div>\n",
       "            <p><b>SparkContext</b></p>\n",
       "\n",
       "            <p><a href=\"http://LAPTOP-52R8ERBK:4041\">Spark UI</a></p>\n",
       "\n",
       "            <dl>\n",
       "              <dt>Version</dt>\n",
       "                <dd><code>v3.4.1</code></dd>\n",
       "              <dt>Master</dt>\n",
       "                <dd><code>local[*]</code></dd>\n",
       "              <dt>AppName</dt>\n",
       "                <dd><code>myAppName</code></dd>\n",
       "            </dl>\n",
       "        </div>\n",
       "        "
      ],
      "text/plain": [
       "<SparkContext master=local[*] appName=myAppName>"
      ]
     },
     "execution_count": 2,
     "metadata": {},
     "output_type": "execute_result"
    }
   ],
   "source": [
    "!pip install findspark\n",
    "import findspark\n",
    "findspark.init()\n",
    "import pyspark\n",
    "sc = pyspark.SparkContext(appName=\"myAppName\")\n",
    "sc"
   ]
  },
  {
   "cell_type": "code",
   "execution_count": 17,
   "id": "fead924d",
   "metadata": {},
   "outputs": [],
   "source": [
    "# Importar las bibliotecas necesarias\n",
    "from pyspark.sql import SparkSession\n",
    "from pyspark.sql.functions import col, concat, count, expr, avg, lit, max, min\n",
    "\n",
    "# Crear una instancia de SparkSession\n",
    "spark = SparkSession.builder.appName(\"Ejercicio\").getOrCreate()"
   ]
  },
  {
   "cell_type": "code",
   "execution_count": 29,
   "id": "c652c104",
   "metadata": {},
   "outputs": [],
   "source": [
    "# Definir los datos de personas\n",
    "data = [(\"Alice\", 25, \"New York\"),\n",
    "        (\"Bob\", 30, \"Los Angeles\"),\n",
    "        (\"Charlie\", 22, \"Chicago\")]"
   ]
  },
  {
   "cell_type": "code",
   "execution_count": 30,
   "id": "70e5705b",
   "metadata": {},
   "outputs": [],
   "source": [
    "# 1. Crear un DataFrame con los datos de personas\n",
    "df = spark.createDataFrame(data, [\"Nombre\", \"Edad\", \"Ciudad\"])"
   ]
  },
  {
   "cell_type": "code",
   "execution_count": 31,
   "id": "4413a47f",
   "metadata": {},
   "outputs": [
    {
     "name": "stdout",
     "output_type": "stream",
     "text": [
      "+-------+\n",
      "| Nombre|\n",
      "+-------+\n",
      "|  Alice|\n",
      "|    Bob|\n",
      "|Charlie|\n",
      "+-------+\n",
      "\n"
     ]
    }
   ],
   "source": [
    "# 2. Mostrar solo los nombres de las personas del DataFrame\n",
    "df.select(\"Nombre\").show()"
   ]
  },
  {
   "cell_type": "code",
   "execution_count": 32,
   "id": "3cf1121a",
   "metadata": {},
   "outputs": [
    {
     "name": "stdout",
     "output_type": "stream",
     "text": [
      "+------+----+-----------+\n",
      "|Nombre|Edad|     Ciudad|\n",
      "+------+----+-----------+\n",
      "| Alice|  25|   New York|\n",
      "|   Bob|  30|Los Angeles|\n",
      "+------+----+-----------+\n",
      "\n"
     ]
    }
   ],
   "source": [
    "# 3. Filtrar personas cuya edad sea mayor o igual a 25\n",
    "df.filter(df.Edad >= 25).show()"
   ]
  },
  {
   "cell_type": "code",
   "execution_count": 33,
   "id": "783bae14",
   "metadata": {},
   "outputs": [
    {
     "name": "stdout",
     "output_type": "stream",
     "text": [
      "+-------+----+-----------+----+\n",
      "| Nombre|Edad|     Ciudad|Pais|\n",
      "+-------+----+-----------+----+\n",
      "|  Alice|  25|   New York|EEUU|\n",
      "|    Bob|  30|Los Angeles|EEUU|\n",
      "|Charlie|  22|    Chicago|EEUU|\n",
      "+-------+----+-----------+----+\n",
      "\n"
     ]
    }
   ],
   "source": [
    "# 4. Agregar una nueva columna \"Pais\" con un valor constante para todas las filas\n",
    "df = df.withColumn(\"Pais\", lit(\"EEUU\"))\n",
    "df.show()"
   ]
  },
  {
   "cell_type": "code",
   "execution_count": 34,
   "id": "44064938",
   "metadata": {},
   "outputs": [
    {
     "name": "stdout",
     "output_type": "stream",
     "text": [
      "+------------------+\n",
      "|         avg(Edad)|\n",
      "+------------------+\n",
      "|25.666666666666668|\n",
      "+------------------+\n",
      "\n"
     ]
    }
   ],
   "source": [
    "# 5. Calcular el promedio de edad de todas las personas\n",
    "df.select(avg(\"Edad\")).show()"
   ]
  },
  {
   "cell_type": "code",
   "execution_count": 35,
   "id": "2fb4647f",
   "metadata": {},
   "outputs": [
    {
     "name": "stdout",
     "output_type": "stream",
     "text": [
      "+-------+----+-----------+----+\n",
      "| Nombre|Edad|     Ciudad|Pais|\n",
      "+-------+----+-----------+----+\n",
      "|    Bob|  30|Los Angeles|EEUU|\n",
      "|  Alice|  25|   New York|EEUU|\n",
      "|Charlie|  22|    Chicago|EEUU|\n",
      "+-------+----+-----------+----+\n",
      "\n"
     ]
    }
   ],
   "source": [
    "# 6. Ordenar el DataFrame por edad en orden descendente\n",
    "df.orderBy(df.Edad.desc()).show()"
   ]
  },
  {
   "cell_type": "code",
   "execution_count": 36,
   "id": "3fa79b4b",
   "metadata": {},
   "outputs": [
    {
     "name": "stdout",
     "output_type": "stream",
     "text": [
      "+-----------+--------+\n",
      "|     Ciudad|Cantidad|\n",
      "+-----------+--------+\n",
      "|   New York|       1|\n",
      "|Los Angeles|       1|\n",
      "|    Chicago|       1|\n",
      "+-----------+--------+\n",
      "\n"
     ]
    }
   ],
   "source": [
    "# 7. Agrupar por ciudad y calcular la cantidad de personas en cada ciudad\n",
    "df.groupBy(\"Ciudad\").agg(count(\"*\").alias(\"Cantidad\")).show()"
   ]
  },
  {
   "cell_type": "code",
   "execution_count": 37,
   "id": "d87d2e48",
   "metadata": {},
   "outputs": [
    {
     "name": "stdout",
     "output_type": "stream",
     "text": [
      "+--------------+----+-----------+----+\n",
      "|NombreCompleto|Edad|     Ciudad|Pais|\n",
      "+--------------+----+-----------+----+\n",
      "|         Alice|  25|   New York|EEUU|\n",
      "|           Bob|  30|Los Angeles|EEUU|\n",
      "|       Charlie|  22|    Chicago|EEUU|\n",
      "+--------------+----+-----------+----+\n",
      "\n"
     ]
    }
   ],
   "source": [
    "# 8. Renombrar la columna \"Nombre\" a \"NombreCompleto\"\n",
    "df = df.withColumnRenamed(\"Nombre\", \"NombreCompleto\")\n",
    "df.show()"
   ]
  },
  {
   "cell_type": "code",
   "execution_count": 38,
   "id": "b8397f1c",
   "metadata": {},
   "outputs": [
    {
     "name": "stdout",
     "output_type": "stream",
     "text": [
      "+--------------+-----------+----+\n",
      "|NombreCompleto|     Ciudad|Pais|\n",
      "+--------------+-----------+----+\n",
      "|         Alice|   New York|EEUU|\n",
      "|           Bob|Los Angeles|EEUU|\n",
      "|       Charlie|    Chicago|EEUU|\n",
      "+--------------+-----------+----+\n",
      "\n"
     ]
    }
   ],
   "source": [
    "# 9. Crear una copia del DataFrame y Eliminar la columna \"Edad\" de la copia del DataFrame\n",
    "df_copia = df.drop(\"Edad\")\n",
    "df_copia.show()"
   ]
  },
  {
   "cell_type": "code",
   "execution_count": 39,
   "id": "0268bdd4",
   "metadata": {},
   "outputs": [
    {
     "name": "stdout",
     "output_type": "stream",
     "text": [
      "+--------------+----+-----------+----+\n",
      "|NombreCompleto|Edad|     Ciudad|Pais|\n",
      "+--------------+----+-----------+----+\n",
      "|         Alice|  25|   New York|EEUU|\n",
      "|           Bob|  30|Los Angeles|EEUU|\n",
      "|       Charlie|  22|    Chicago|EEUU|\n",
      "+--------------+----+-----------+----+\n",
      "\n"
     ]
    }
   ],
   "source": [
    "# 10. Realizar una consulta SQL en el DataFrame para seleccionar personas mayores de 20 años\n",
    "df.createOrReplaceTempView(\"personas\")\n",
    "resultados_sql = spark.sql(\"SELECT * FROM personas WHERE Edad >= 20\")\n",
    "resultados_sql.show()"
   ]
  },
  {
   "cell_type": "code",
   "execution_count": 40,
   "id": "d5437810",
   "metadata": {},
   "outputs": [
    {
     "name": "stdout",
     "output_type": "stream",
     "text": [
      "+---------+\n",
      "|sum(Edad)|\n",
      "+---------+\n",
      "|       77|\n",
      "+---------+\n",
      "\n"
     ]
    }
   ],
   "source": [
    "# 11. Calcular la suma total de todas las edades.\n",
    "df.selectExpr(\"sum(Edad)\").show()"
   ]
  },
  {
   "cell_type": "code",
   "execution_count": 41,
   "id": "a4f99a33",
   "metadata": {},
   "outputs": [
    {
     "name": "stdout",
     "output_type": "stream",
     "text": [
      "+---------+---------+\n",
      "|min(Edad)|max(Edad)|\n",
      "+---------+---------+\n",
      "|       22|       30|\n",
      "+---------+---------+\n",
      "\n"
     ]
    }
   ],
   "source": [
    "# 12. Calcular la edad mínima y máxima de todas las personas\n",
    "df.select(min(\"Edad\"), max(\"Edad\")).show()"
   ]
  },
  {
   "cell_type": "code",
   "execution_count": 42,
   "id": "cb5ad591",
   "metadata": {},
   "outputs": [
    {
     "name": "stdout",
     "output_type": "stream",
     "text": [
      "+--------------+----+-------+----+\n",
      "|NombreCompleto|Edad| Ciudad|Pais|\n",
      "+--------------+----+-------+----+\n",
      "|       Charlie|  22|Chicago|EEUU|\n",
      "+--------------+----+-------+----+\n",
      "\n"
     ]
    }
   ],
   "source": [
    "# 13. Filtrar personas cuya ciudad de residencia sea \"Chicago\" y edad sea menor de 30\n",
    "df.filter((df.Ciudad == \"Chicago\") & (df.Edad < 30)).show()"
   ]
  },
  {
   "cell_type": "code",
   "execution_count": 44,
   "id": "9e3f755e",
   "metadata": {},
   "outputs": [
    {
     "name": "stdout",
     "output_type": "stream",
     "text": [
      "+--------------+----+-----------+----+-------------+\n",
      "|NombreCompleto|Edad|     Ciudad|Pais|EdadDuplicada|\n",
      "+--------------+----+-----------+----+-------------+\n",
      "|         Alice|  25|   New York|EEUU|           50|\n",
      "|           Bob|  30|Los Angeles|EEUU|           60|\n",
      "|       Charlie|  22|    Chicago|EEUU|           44|\n",
      "+--------------+----+-----------+----+-------------+\n",
      "\n"
     ]
    }
   ],
   "source": [
    "# 14. Agregar una nueva columna \"EdadDuplicada\" que contenga el doble de la edad\n",
    "df = df.withColumn(\"EdadDuplicada\", col(\"Edad\") * 2)\n",
    "df.show()"
   ]
  },
  {
   "cell_type": "code",
   "execution_count": 45,
   "id": "7f7fd388",
   "metadata": {},
   "outputs": [
    {
     "name": "stdout",
     "output_type": "stream",
     "text": [
      "+--------------+----+-----------+----+-------------+-----------+\n",
      "|NombreCompleto|Edad|     Ciudad|Pais|EdadDuplicada|EdadEnMeses|\n",
      "+--------------+----+-----------+----+-------------+-----------+\n",
      "|         Alice|  25|   New York|EEUU|           50|        300|\n",
      "|           Bob|  30|Los Angeles|EEUU|           60|        360|\n",
      "|       Charlie|  22|    Chicago|EEUU|           44|        264|\n",
      "+--------------+----+-----------+----+-------------+-----------+\n",
      "\n"
     ]
    }
   ],
   "source": [
    "# 15. Convertir todas las edades en años a meses\n",
    "df = df.withColumn(\"EdadEnMeses\", col(\"Edad\") * 12)\n",
    "df.show()"
   ]
  },
  {
   "cell_type": "code",
   "execution_count": 48,
   "id": "9ea483d4",
   "metadata": {},
   "outputs": [
    {
     "name": "stdout",
     "output_type": "stream",
     "text": [
      "Número total de personas en el DataFrame: 3\n"
     ]
    }
   ],
   "source": [
    "# 16. Contar el número total de personas en el DataFrame\n",
    "total_personas = df.count()\n",
    "print(\"Número total de personas en el DataFrame:\", total_personas)\n"
   ]
  },
  {
   "cell_type": "code",
   "execution_count": 49,
   "id": "4d959c56",
   "metadata": {},
   "outputs": [
    {
     "name": "stdout",
     "output_type": "stream",
     "text": [
      "+--------------+----+-----------+----+-------------+-----------+\n",
      "|NombreCompleto|Edad|     Ciudad|Pais|EdadDuplicada|EdadEnMeses|\n",
      "+--------------+----+-----------+----+-------------+-----------+\n",
      "|           Bob|  30|Los Angeles|EEUU|           60|        360|\n",
      "|       Charlie|  22|    Chicago|EEUU|           44|        264|\n",
      "+--------------+----+-----------+----+-------------+-----------+\n",
      "\n"
     ]
    }
   ],
   "source": [
    "# 17. Filtrar personas cuya edad sea un número par\n",
    "df.filter(df.Edad % 2 == 0).show()"
   ]
  },
  {
   "cell_type": "code",
   "execution_count": 50,
   "id": "eb9d6f7d",
   "metadata": {},
   "outputs": [
    {
     "name": "stdout",
     "output_type": "stream",
     "text": [
      "+-----------+--------+\n",
      "|RangoEdades|Cantidad|\n",
      "+-----------+--------+\n",
      "|      21-40|       3|\n",
      "+-----------+--------+\n",
      "\n"
     ]
    }
   ],
   "source": [
    "# 18. Calcular la cantidad de personas por rango de edades (0-20, 21-40, 41-60, 61+)\n",
    "df.groupBy(expr(\"CASE WHEN Edad BETWEEN 0 AND 20 THEN '0-20' WHEN Edad BETWEEN 21 AND 40 THEN '21-40' WHEN Edad BETWEEN 41 AND 60 THEN '41-60' ELSE '61+' END AS RangoEdades\")).agg(count(\"*\").alias(\"Cantidad\")).show()"
   ]
  },
  {
   "cell_type": "code",
   "execution_count": 51,
   "id": "d9a11986",
   "metadata": {},
   "outputs": [
    {
     "name": "stdout",
     "output_type": "stream",
     "text": [
      "+--------------+--------+\n",
      "|NombreCompleto|Cantidad|\n",
      "+--------------+--------+\n",
      "|         Alice|       1|\n",
      "|           Bob|       1|\n",
      "|       Charlie|       1|\n",
      "+--------------+--------+\n",
      "\n"
     ]
    }
   ],
   "source": [
    "# 19. Contar cuántas personas tienen el mismo nombre\n",
    "df.groupBy(\"NombreCompleto\").agg(count(\"*\").alias(\"Cantidad\")).show()"
   ]
  },
  {
   "cell_type": "code",
   "execution_count": 53,
   "id": "a76e2566",
   "metadata": {},
   "outputs": [
    {
     "name": "stdout",
     "output_type": "stream",
     "text": [
      "+--------------+----+-----------+----+-------------+-----------+-------------------+\n",
      "|NombreCompleto|Edad|     Ciudad|Pais|EdadDuplicada|EdadEnMeses|InformacionPersonal|\n",
      "+--------------+----+-----------+----+-------------+-----------+-------------------+\n",
      "|         Alice|  25|   New York|EEUU|           50|        300|    Alice, New York|\n",
      "|           Bob|  30|Los Angeles|EEUU|           60|        360|   Bob, Los Angeles|\n",
      "|       Charlie|  22|    Chicago|EEUU|           44|        264|   Charlie, Chicago|\n",
      "+--------------+----+-----------+----+-------------+-----------+-------------------+\n",
      "\n"
     ]
    }
   ],
   "source": [
    "# 20. Concatenar las columnas \"Nombre\" y \"Ciudad\" en una nueva columna llamada \"InformacionPersonal\"\n",
    "df = df.withColumn(\"InformacionPersonal\", concat(col(\"NombreCompleto\"), lit(\", \"), col(\"Ciudad\"))).show()"
   ]
  },
  {
   "cell_type": "code",
   "execution_count": null,
   "id": "845edfc2",
   "metadata": {},
   "outputs": [],
   "source": []
  }
 ],
 "metadata": {
  "kernelspec": {
   "display_name": "Python 3 (ipykernel)",
   "language": "python",
   "name": "python3"
  },
  "language_info": {
   "codemirror_mode": {
    "name": "ipython",
    "version": 3
   },
   "file_extension": ".py",
   "mimetype": "text/x-python",
   "name": "python",
   "nbconvert_exporter": "python",
   "pygments_lexer": "ipython3",
   "version": "3.10.9"
  }
 },
 "nbformat": 4,
 "nbformat_minor": 5
}
